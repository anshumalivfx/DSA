{
 "cells": [
  {
   "cell_type": "code",
   "execution_count": 1,
   "metadata": {},
   "outputs": [],
   "source": [
    "import ctypes"
   ]
  },
  {
   "cell_type": "code",
   "execution_count": 91,
   "metadata": {},
   "outputs": [],
   "source": [
    "class MyList:\n",
    "    def __init__(self) -> None:\n",
    "        self.size = 1\n",
    "        self.n = 0\n",
    "        # create a C Type Array with size = self.size\n",
    "        self.A = self.__makeArray(self.size)\n",
    "    \n",
    "    def __len__(self) -> int:\n",
    "        return self.n\n",
    "    \n",
    "    def append(self, item):\n",
    "        if self.n == self.size:\n",
    "            # resize\n",
    "            self.__resize(self.size*2)\n",
    "        # append\n",
    "        self.A[self.n] = item\n",
    "        self.n += 1\n",
    "        \n",
    "    def pop(self):\n",
    "        if self.n == 0:\n",
    "            return ValueError(\"List is Empty\")\n",
    "        print(self.A[self.n-1])\n",
    "        self.n -= 1\n",
    "    \n",
    "    def clean(self):\n",
    "        self.n = 0\n",
    "        self.size = 1\n",
    "        self.A = self.__makeArray(self.size)\n",
    "    \n",
    "    def find(self, item):\n",
    "        for i in range(self.n):\n",
    "            if self.A[i] == item:\n",
    "                return i\n",
    "            \n",
    "        return ValueError(\"Not in List\")\n",
    "    \n",
    "    def insert(self, item, index):\n",
    "        if index < 0 or index > self.n:\n",
    "            return IndexError(\"Index out of range\")\n",
    "        if self.n == self.size:\n",
    "            self.__resize(self.size*2)\n",
    "        for i in range(self.n, index, -1):\n",
    "            self.A[i] = self.A[i-1]\n",
    "        self.A[index] = item\n",
    "        self.n += 1\n",
    "\n",
    "    def remove(self, item):\n",
    "        index = self.find(item)\n",
    "        if index == ValueError:\n",
    "            return ValueError(\"Item not in List\")\n",
    "        for i in range(index, self.n-1):\n",
    "            self.A[i] = self.A[i+1]\n",
    "        self.n -= 1\n",
    "    \n",
    "    def __resize(self, new_size):\n",
    "        B = self.__makeArray(new_size)\n",
    "        self.size = new_size\n",
    "        for i in range(self.n):\n",
    "            B[i] = self.A[i]\n",
    "        self.A = B\n",
    "        \n",
    "    \n",
    "    def __makeArray(self, size):\n",
    "            return (size*ctypes.py_object)()\n",
    "    \n",
    "    def __str__(self):\n",
    "        result = \"\"\n",
    "        for i in range(self.n):\n",
    "            result += str(self.A[i]) + ','\n",
    "        return f\"[{result[:-1]}]\"\n",
    "    \n",
    "    def __getitem__(self, i):\n",
    "        if not 0 <= i < self.n:\n",
    "            return IndexError('Index out of range')\n",
    "        return self.A[i]\n",
    "\n",
    "    def __delitem__(self, pos):\n",
    "        if pos < 0 or pos >= self.n:\n",
    "            return IndexError('Index out of range')\n",
    "        for i in range(pos, self.n-1):\n",
    "            self.A[i] = self.A[i+1]\n",
    "        self.n -= 1\n",
    "    "
   ]
  },
  {
   "cell_type": "code",
   "execution_count": 92,
   "metadata": {},
   "outputs": [],
   "source": [
    "L = MyList()"
   ]
  },
  {
   "cell_type": "code",
   "execution_count": 93,
   "metadata": {},
   "outputs": [],
   "source": [
    "L.append(\"Hello\")\n",
    "L.append(\"World\")\n",
    "L.append(3.0)\n",
    "L.append(True)"
   ]
  },
  {
   "cell_type": "code",
   "execution_count": 94,
   "metadata": {},
   "outputs": [
    {
     "name": "stdout",
     "output_type": "stream",
     "text": [
      "[Hello,World,3.0,True]\n"
     ]
    }
   ],
   "source": [
    "print(L)"
   ]
  },
  {
   "cell_type": "code",
   "execution_count": 95,
   "metadata": {},
   "outputs": [
    {
     "name": "stdout",
     "output_type": "stream",
     "text": [
      "True\n"
     ]
    }
   ],
   "source": [
    "L.pop()"
   ]
  },
  {
   "cell_type": "code",
   "execution_count": 96,
   "metadata": {},
   "outputs": [
    {
     "name": "stdout",
     "output_type": "stream",
     "text": [
      "[Hello,World,3.0]\n"
     ]
    }
   ],
   "source": [
    "print(L)"
   ]
  },
  {
   "cell_type": "code",
   "execution_count": 97,
   "metadata": {},
   "outputs": [],
   "source": [
    "L.insert(\"Python\", 1)"
   ]
  },
  {
   "cell_type": "code",
   "execution_count": 98,
   "metadata": {},
   "outputs": [
    {
     "name": "stdout",
     "output_type": "stream",
     "text": [
      "[Hello,Python,World,3.0]\n"
     ]
    }
   ],
   "source": [
    "print(L)"
   ]
  },
  {
   "cell_type": "code",
   "execution_count": 99,
   "metadata": {},
   "outputs": [
    {
     "data": {
      "text/plain": [
       "ValueError('Not in List')"
      ]
     },
     "execution_count": 99,
     "metadata": {},
     "output_type": "execute_result"
    }
   ],
   "source": [
    "L.find(True)"
   ]
  },
  {
   "cell_type": "code",
   "execution_count": 100,
   "metadata": {},
   "outputs": [],
   "source": [
    "del L[1]"
   ]
  },
  {
   "cell_type": "code",
   "execution_count": 101,
   "metadata": {},
   "outputs": [
    {
     "name": "stdout",
     "output_type": "stream",
     "text": [
      "[Hello,World,3.0]\n"
     ]
    }
   ],
   "source": [
    "print(L)"
   ]
  },
  {
   "cell_type": "code",
   "execution_count": null,
   "metadata": {},
   "outputs": [],
   "source": []
  }
 ],
 "metadata": {
  "kernelspec": {
   "display_name": "base",
   "language": "python",
   "name": "python3"
  },
  "language_info": {
   "codemirror_mode": {
    "name": "ipython",
    "version": 3
   },
   "file_extension": ".py",
   "mimetype": "text/x-python",
   "name": "python",
   "nbconvert_exporter": "python",
   "pygments_lexer": "ipython3",
   "version": "3.9.12"
  }
 },
 "nbformat": 4,
 "nbformat_minor": 2
}
